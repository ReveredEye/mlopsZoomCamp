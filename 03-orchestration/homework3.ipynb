{
 "cells": [
  {
   "cell_type": "markdown",
   "metadata": {},
   "source": [
    "### Answers for homework 3 questions"
   ]
  },
  {
   "cell_type": "markdown",
   "metadata": {},
   "source": [
    "##### Q1) Version of Mage running?\n",
    "\n",
    "Looking in the UI on `https://localhost:6789` the version running is v0.9.71 (2nd June 2024)."
   ]
  },
  {
   "cell_type": "markdown",
   "metadata": {},
   "source": [
    "##### Q2) How many lines are in the `metadata.yml` file?\n",
    "\n",
    "As of writing this, there are 55 lines in the `metadata.yml` file. `homework_03 project` is located inside `mage-quickstart` -> `your_first_project`."
   ]
  },
  {
   "cell_type": "code",
   "execution_count": 8,
   "metadata": {},
   "outputs": [
    {
     "name": "stdout",
     "output_type": "stream",
     "text": [
      "200\n",
      "The number of records in March 2023 Yellow Taxi data is 3403766\n"
     ]
    }
   ],
   "source": [
    "# Q3) How many records in March 2023 Yello taxi trips data\n",
    "import requests\n",
    "import pandas as pd\n",
    "from io import BytesIO\n",
    "\n",
    "march_url = 'https://d37ci6vzurychx.cloudfront.net/trip-data/yellow_tripdata_2023-03.parquet'\n",
    "response = requests.get(march_url)\n",
    "print(response.status_code)\n",
    "df = pd.read_parquet(BytesIO(response.content))\n",
    "print(f'The number of records in March 2023 Yellow Taxi data is {df.shape[0]}')\n",
    "\n",
    "# This code sits inside the file `mage-quickstart/your_first_project/data_loaders/ingest_nyc_yellow2023.py`\n",
    "# which is linked to the pipeline `mage-quickstart/your_first_project/pipelines/nyc_yellow_2023`"
   ]
  }
 ],
 "metadata": {
  "kernelspec": {
   "display_name": ".venv",
   "language": "python",
   "name": "python3"
  },
  "language_info": {
   "codemirror_mode": {
    "name": "ipython",
    "version": 3
   },
   "file_extension": ".py",
   "mimetype": "text/x-python",
   "name": "python",
   "nbconvert_exporter": "python",
   "pygments_lexer": "ipython3",
   "version": "3.10.13"
  }
 },
 "nbformat": 4,
 "nbformat_minor": 2
}
