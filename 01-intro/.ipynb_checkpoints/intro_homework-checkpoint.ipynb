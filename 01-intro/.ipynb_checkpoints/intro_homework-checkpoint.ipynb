{
 "cells": [
  {
   "cell_type": "code",
   "execution_count": 2,
   "id": "e6cd0a58-80fa-48fa-af60-d969c4a82801",
   "metadata": {},
   "outputs": [
    {
     "name": "stdout",
     "output_type": "stream",
     "text": [
      "/workspaces/mlopsZoomCamp/.venv/bin/python\n"
     ]
    }
   ],
   "source": [
    "# Check which interpreter environment or dependencies are being utilised.\n",
    "# !pip freeze\n",
    "!which python"
   ]
  },
  {
   "cell_type": "code",
   "execution_count": 10,
   "id": "dfb36175-d8df-41d9-b48c-5e38791b4985",
   "metadata": {},
   "outputs": [
    {
     "name": "stdout",
     "output_type": "stream",
     "text": [
      "/workspaces/mlopsZoomCamp/01-intro\n"
     ]
    }
   ],
   "source": [
    "# Packages\n",
    "import os, sys\n",
    "import numpy as np\n",
    "import pandas as pd\n",
    "from sklearn.feature_extraction import DictVectorizer\n",
    "from sklearn.linear_model import LinearRegression\n",
    "from sklearn.metrics import root_mean_squared_error\n",
    "\n",
    "print(os.getcwd())"
   ]
  },
  {
   "cell_type": "code",
   "execution_count": 2,
   "id": "d2084e5e-1338-49a2-84ca-035c25cef9fc",
   "metadata": {},
   "outputs": [
    {
     "data": {
      "text/html": [
       "<div>\n",
       "<style scoped>\n",
       "    .dataframe tbody tr th:only-of-type {\n",
       "        vertical-align: middle;\n",
       "    }\n",
       "\n",
       "    .dataframe tbody tr th {\n",
       "        vertical-align: top;\n",
       "    }\n",
       "\n",
       "    .dataframe thead th {\n",
       "        text-align: right;\n",
       "    }\n",
       "</style>\n",
       "<table border=\"1\" class=\"dataframe\">\n",
       "  <thead>\n",
       "    <tr style=\"text-align: right;\">\n",
       "      <th></th>\n",
       "      <th>VendorID</th>\n",
       "      <th>tpep_pickup_datetime</th>\n",
       "      <th>tpep_dropoff_datetime</th>\n",
       "      <th>passenger_count</th>\n",
       "      <th>trip_distance</th>\n",
       "      <th>RatecodeID</th>\n",
       "      <th>store_and_fwd_flag</th>\n",
       "      <th>PULocationID</th>\n",
       "      <th>DOLocationID</th>\n",
       "      <th>payment_type</th>\n",
       "      <th>fare_amount</th>\n",
       "      <th>extra</th>\n",
       "      <th>mta_tax</th>\n",
       "      <th>tip_amount</th>\n",
       "      <th>tolls_amount</th>\n",
       "      <th>improvement_surcharge</th>\n",
       "      <th>total_amount</th>\n",
       "      <th>congestion_surcharge</th>\n",
       "      <th>airport_fee</th>\n",
       "    </tr>\n",
       "  </thead>\n",
       "  <tbody>\n",
       "    <tr>\n",
       "      <th>0</th>\n",
       "      <td>2</td>\n",
       "      <td>2023-01-01 00:32:10</td>\n",
       "      <td>2023-01-01 00:40:36</td>\n",
       "      <td>1.0</td>\n",
       "      <td>0.97</td>\n",
       "      <td>1.0</td>\n",
       "      <td>N</td>\n",
       "      <td>161</td>\n",
       "      <td>141</td>\n",
       "      <td>2</td>\n",
       "      <td>9.3</td>\n",
       "      <td>1.00</td>\n",
       "      <td>0.5</td>\n",
       "      <td>0.00</td>\n",
       "      <td>0.0</td>\n",
       "      <td>1.0</td>\n",
       "      <td>14.30</td>\n",
       "      <td>2.5</td>\n",
       "      <td>0.00</td>\n",
       "    </tr>\n",
       "    <tr>\n",
       "      <th>1</th>\n",
       "      <td>2</td>\n",
       "      <td>2023-01-01 00:55:08</td>\n",
       "      <td>2023-01-01 01:01:27</td>\n",
       "      <td>1.0</td>\n",
       "      <td>1.10</td>\n",
       "      <td>1.0</td>\n",
       "      <td>N</td>\n",
       "      <td>43</td>\n",
       "      <td>237</td>\n",
       "      <td>1</td>\n",
       "      <td>7.9</td>\n",
       "      <td>1.00</td>\n",
       "      <td>0.5</td>\n",
       "      <td>4.00</td>\n",
       "      <td>0.0</td>\n",
       "      <td>1.0</td>\n",
       "      <td>16.90</td>\n",
       "      <td>2.5</td>\n",
       "      <td>0.00</td>\n",
       "    </tr>\n",
       "    <tr>\n",
       "      <th>2</th>\n",
       "      <td>2</td>\n",
       "      <td>2023-01-01 00:25:04</td>\n",
       "      <td>2023-01-01 00:37:49</td>\n",
       "      <td>1.0</td>\n",
       "      <td>2.51</td>\n",
       "      <td>1.0</td>\n",
       "      <td>N</td>\n",
       "      <td>48</td>\n",
       "      <td>238</td>\n",
       "      <td>1</td>\n",
       "      <td>14.9</td>\n",
       "      <td>1.00</td>\n",
       "      <td>0.5</td>\n",
       "      <td>15.00</td>\n",
       "      <td>0.0</td>\n",
       "      <td>1.0</td>\n",
       "      <td>34.90</td>\n",
       "      <td>2.5</td>\n",
       "      <td>0.00</td>\n",
       "    </tr>\n",
       "    <tr>\n",
       "      <th>3</th>\n",
       "      <td>1</td>\n",
       "      <td>2023-01-01 00:03:48</td>\n",
       "      <td>2023-01-01 00:13:25</td>\n",
       "      <td>0.0</td>\n",
       "      <td>1.90</td>\n",
       "      <td>1.0</td>\n",
       "      <td>N</td>\n",
       "      <td>138</td>\n",
       "      <td>7</td>\n",
       "      <td>1</td>\n",
       "      <td>12.1</td>\n",
       "      <td>7.25</td>\n",
       "      <td>0.5</td>\n",
       "      <td>0.00</td>\n",
       "      <td>0.0</td>\n",
       "      <td>1.0</td>\n",
       "      <td>20.85</td>\n",
       "      <td>0.0</td>\n",
       "      <td>1.25</td>\n",
       "    </tr>\n",
       "    <tr>\n",
       "      <th>4</th>\n",
       "      <td>2</td>\n",
       "      <td>2023-01-01 00:10:29</td>\n",
       "      <td>2023-01-01 00:21:19</td>\n",
       "      <td>1.0</td>\n",
       "      <td>1.43</td>\n",
       "      <td>1.0</td>\n",
       "      <td>N</td>\n",
       "      <td>107</td>\n",
       "      <td>79</td>\n",
       "      <td>1</td>\n",
       "      <td>11.4</td>\n",
       "      <td>1.00</td>\n",
       "      <td>0.5</td>\n",
       "      <td>3.28</td>\n",
       "      <td>0.0</td>\n",
       "      <td>1.0</td>\n",
       "      <td>19.68</td>\n",
       "      <td>2.5</td>\n",
       "      <td>0.00</td>\n",
       "    </tr>\n",
       "  </tbody>\n",
       "</table>\n",
       "</div>"
      ],
      "text/plain": [
       "   VendorID tpep_pickup_datetime tpep_dropoff_datetime  passenger_count  \\\n",
       "0         2  2023-01-01 00:32:10   2023-01-01 00:40:36              1.0   \n",
       "1         2  2023-01-01 00:55:08   2023-01-01 01:01:27              1.0   \n",
       "2         2  2023-01-01 00:25:04   2023-01-01 00:37:49              1.0   \n",
       "3         1  2023-01-01 00:03:48   2023-01-01 00:13:25              0.0   \n",
       "4         2  2023-01-01 00:10:29   2023-01-01 00:21:19              1.0   \n",
       "\n",
       "   trip_distance  RatecodeID store_and_fwd_flag  PULocationID  DOLocationID  \\\n",
       "0           0.97         1.0                  N           161           141   \n",
       "1           1.10         1.0                  N            43           237   \n",
       "2           2.51         1.0                  N            48           238   \n",
       "3           1.90         1.0                  N           138             7   \n",
       "4           1.43         1.0                  N           107            79   \n",
       "\n",
       "   payment_type  fare_amount  extra  mta_tax  tip_amount  tolls_amount  \\\n",
       "0             2          9.3   1.00      0.5        0.00           0.0   \n",
       "1             1          7.9   1.00      0.5        4.00           0.0   \n",
       "2             1         14.9   1.00      0.5       15.00           0.0   \n",
       "3             1         12.1   7.25      0.5        0.00           0.0   \n",
       "4             1         11.4   1.00      0.5        3.28           0.0   \n",
       "\n",
       "   improvement_surcharge  total_amount  congestion_surcharge  airport_fee  \n",
       "0                    1.0         14.30                   2.5         0.00  \n",
       "1                    1.0         16.90                   2.5         0.00  \n",
       "2                    1.0         34.90                   2.5         0.00  \n",
       "3                    1.0         20.85                   0.0         1.25  \n",
       "4                    1.0         19.68                   2.5         0.00  "
      ]
     },
     "metadata": {},
     "output_type": "display_data"
    }
   ],
   "source": [
    "# Reading parquet data files\n",
    "# to install use 'wget <url_link>' in the command line with the directory you want to install it into\n",
    "data_path = '/workspaces/mlopsZoomCamp/data/'\n",
    "janYellow23 = pd.read_parquet(data_path + 'yellow_tripdata_2023-01.parquet')\n",
    "febYellow23 = pd.read_parquet(data_path + 'yellow_tripdata_2023-02.parquet')\n",
    "display(janYellow23.head())"
   ]
  },
  {
   "cell_type": "code",
   "execution_count": 8,
   "id": "d88b32f8-0355-4e90-9364-e2ab974b4c34",
   "metadata": {},
   "outputs": [
    {
     "name": "stdout",
     "output_type": "stream",
     "text": [
      "There are 19 columns in the January data.\n"
     ]
    }
   ],
   "source": [
    "# Q1) how many columns in the January data?\n",
    "print('There are {} columns in the January data.'.format(janYellow23.shape[1]))"
   ]
  },
  {
   "cell_type": "code",
   "execution_count": 3,
   "id": "57d38319-68bc-4ce5-9097-5beb9d6fef39",
   "metadata": {},
   "outputs": [
    {
     "name": "stdout",
     "output_type": "stream",
     "text": [
      "The standard deviation for duration of trips in January is 42.59434429744777 minutes.\n"
     ]
    }
   ],
   "source": [
    "# Q2) What is the standard deviation for duration in the January data?\n",
    "# add duration column in minutes\n",
    "janYellow23['duration'] = (janYellow23['tpep_dropoff_datetime'] - janYellow23['tpep_pickup_datetime'])\\\n",
    "                            .dt.total_seconds().div(60)\n",
    "print(f'The standard deviation for duration of trips in January is {np.std(janYellow23['duration'])} minutes.')"
   ]
  },
  {
   "cell_type": "code",
   "execution_count": 4,
   "id": "b76403ef-f761-44f5-8a3b-825903a0b5e3",
   "metadata": {},
   "outputs": [
    {
     "name": "stdout",
     "output_type": "stream",
     "text": [
      "The fraction of records kept are 98.12\n"
     ]
    }
   ],
   "source": [
    "# Q3) What fraction of records left after dropping outliers (where duration is not between 1 to 60 minutes inclusive)?\n",
    "\n",
    "initJanRows = janYellow23.shape[0]\n",
    "# print(initJanRows)\n",
    "janYellow23 = janYellow23[janYellow23['duration'].between(1, 60, inclusive = 'both')]\n",
    "print('The fraction of records kept are {:.2f}'.format(janYellow23.shape[0]*100/initJanRows))"
   ]
  },
  {
   "cell_type": "code",
   "execution_count": 17,
   "id": "f7242e01-dd5e-4c50-bddf-1a4b91027d7e",
   "metadata": {},
   "outputs": [
    {
     "name": "stdout",
     "output_type": "stream",
     "text": [
      "(3009173, 515)\n"
     ]
    }
   ],
   "source": [
    "# Q4) What is the dimensionality of the feature matrix?\n",
    "\n",
    "# One-hot encoding method using DictVectorizer \n",
    "#  - for more info see https://dev.to/victor_isaac_king/one-hot-encoding-with-dictvectorizer-1317\n",
    "featDict = janYellow23[['PULocationID', 'DOLocationID']].astype(str).to_dict(orient = 'records')\n",
    "dv = DictVectorizer()#sparse = False <- Use if small dataset\n",
    "dv.fit(featDict)\n",
    "featMat = dv.transform(featDict)\n",
    "print(featMat.shape)"
   ]
  },
  {
   "cell_type": "code",
   "execution_count": 11,
   "id": "10ecaae7-fc84-4868-b7d2-119cfbdb988d",
   "metadata": {},
   "outputs": [
    {
     "name": "stdout",
     "output_type": "stream",
     "text": [
      "RMSE of the plain linear regression model: 7.65\n"
     ]
    }
   ],
   "source": [
    "#Q5) RMSE on training a plain linear regression model?\n",
    "\n",
    "regressor = LinearRegression()\n",
    "regressor.fit(featMat, janYellow23['duration'])\n",
    "predictJan = regressor.predict(featMat)\n",
    "rmse = root_mean_squared_error(janYellow23['duration'], predictJan)\n",
    "print('RMSE of the plain linear regression model: {:.2f}'.format(rmse))"
   ]
  },
  {
   "cell_type": "code",
   "execution_count": 18,
   "id": "2a81652d-98a3-49be-aaa1-89269bbb19f5",
   "metadata": {},
   "outputs": [
    {
     "name": "stdout",
     "output_type": "stream",
     "text": [
      "(2855951, 515)\n"
     ]
    }
   ],
   "source": [
    "# Q6) RMSE on validation?\n",
    "\n",
    "# Setting features and label\n",
    "febYellow23['duration'] = (febYellow23['tpep_dropoff_datetime'] - febYellow23['tpep_pickup_datetime'])\\\n",
    "                            .dt.total_seconds().div(60)\n",
    "febYellow23 = febYellow23[febYellow23['duration'].between(1, 60, inclusive = 'both')]\n",
    "featDictFeb = febYellow23[['PULocationID', 'DOLocationID']].astype(str).to_dict(orient = 'records')\n",
    "featMatFeb = dv.transform(featDictFeb)\n",
    "print(featMatFeb.shape)"
   ]
  },
  {
   "cell_type": "code",
   "execution_count": 19,
   "id": "87367c3c-f023-4078-bfbe-832d5db53c79",
   "metadata": {},
   "outputs": [
    {
     "name": "stdout",
     "output_type": "stream",
     "text": [
      "RMSE on validation data: 7.812\n"
     ]
    }
   ],
   "source": [
    "# Running predictions in validation data\n",
    "predictFeb = regressor.predict(featMatFeb)\n",
    "rmseVal = root_mean_squared_error(febYellow23['duration'], predictFeb)\n",
    "print('RMSE on validation data: {:.3f}'.format(rmseVal))"
   ]
  }
 ],
 "metadata": {
  "kernelspec": {
   "display_name": "Python 3 (ipykernel)",
   "language": "python",
   "name": "python3"
  },
  "language_info": {
   "codemirror_mode": {
    "name": "ipython",
    "version": 3
   },
   "file_extension": ".py",
   "mimetype": "text/x-python",
   "name": "python",
   "nbconvert_exporter": "python",
   "pygments_lexer": "ipython3",
   "version": "3.12.3"
  }
 },
 "nbformat": 4,
 "nbformat_minor": 5
}
