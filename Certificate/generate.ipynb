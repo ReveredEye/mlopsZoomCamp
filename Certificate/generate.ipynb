{
 "cells": [
  {
   "cell_type": "code",
   "execution_count": 1,
   "metadata": {},
   "outputs": [],
   "source": [
    "import os, sys\n",
    "import json\n",
    "from hashlib import sha1"
   ]
  },
  {
   "cell_type": "code",
   "execution_count": 2,
   "metadata": {},
   "outputs": [],
   "source": [
    "def compute_hash(email):\n",
    "    return sha1(email.encode('utf-8')).hexdigest()\n",
    "\n",
    "def compute_certificate_id(email):\n",
    "    email_clean = email.lower().strip()\n",
    "    return compute_hash(email_clean + '_')"
   ]
  },
  {
   "cell_type": "code",
   "execution_count": 3,
   "metadata": {},
   "outputs": [],
   "source": [
    "# creds.json file should have the contents following {\"email\": \"<email>\"}\n",
    "with open('./creds.json', 'rb') as f:\n",
    "    credsFile = json.load(f)\n",
    "\n",
    "cert_id = compute_certificate_id(credsFile['email'])\n",
    "cohort = 2024\n",
    "course = 'mlops-zoomcamp'\n",
    "url = f\"https://certificate.datatalks.club/{course}/{cohort}/{cert_id}.pdf\"\n",
    "# print(url)"
   ]
  }
 ],
 "metadata": {
  "kernelspec": {
   "display_name": "mlopsZoomCamp-N4BsZyAv",
   "language": "python",
   "name": "python3"
  },
  "language_info": {
   "codemirror_mode": {
    "name": "ipython",
    "version": 3
   },
   "file_extension": ".py",
   "mimetype": "text/x-python",
   "name": "python",
   "nbconvert_exporter": "python",
   "pygments_lexer": "ipython3",
   "version": "3.10.13"
  }
 },
 "nbformat": 4,
 "nbformat_minor": 2
}
