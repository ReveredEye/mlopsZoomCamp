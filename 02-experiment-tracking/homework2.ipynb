{
 "cells": [
  {
   "cell_type": "code",
   "execution_count": 2,
   "metadata": {},
   "outputs": [
    {
     "name": "stdout",
     "output_type": "stream",
     "text": [
      "/workspaces/mlopsZoomCamp/.venv/bin/python\n"
     ]
    }
   ],
   "source": [
    "!which python"
   ]
  },
  {
   "cell_type": "code",
   "execution_count": 2,
   "metadata": {},
   "outputs": [],
   "source": [
    "import os, sys\n",
    "import importlib.util\n",
    "import numpy as np\n",
    "import pandas as pd\n",
    "from sklearn.ensemble import RandomForestRegressor\n",
    "import mlflow"
   ]
  },
  {
   "cell_type": "code",
   "execution_count": null,
   "metadata": {},
   "outputs": [],
   "source": [
    "# To import train.py file and execute it\n",
    "# spec = importlib.util.spec_from_file_location('module"
   ]
  },
  {
   "cell_type": "code",
   "execution_count": 2,
   "metadata": {},
   "outputs": [
    {
     "name": "stdout",
     "output_type": "stream",
     "text": [
      "mlflow, version 2.13.0\n"
     ]
    }
   ],
   "source": [
    "# Q1) What is the current version of MLFlow being utilised?\n",
    "!mlflow --version"
   ]
  },
  {
   "cell_type": "code",
   "execution_count": 7,
   "metadata": {},
   "outputs": [
    {
     "name": "stdout",
     "output_type": "stream",
     "text": [
      "The number of files saved to the output folder is 4.\n"
     ]
    }
   ],
   "source": [
    "# Q2) How many folders are in the output folder after running preprocess_data.py?\n",
    "\n",
    "# In doing this go to the directory '/workspaces/mlopsZoomCamp/02-experiment-tracking/homework' in command line.\n",
    "# Run 'python preprocess_data.py --raw_data_path /workspaces/mlopsZoomCamp/data/green_taxi --dest_path ./output'\n",
    "output_folder = '/workspaces/mlopsZoomCamp/02-experiment-tracking/homework/output'\n",
    "# print(os.listdir(output_folder))\n",
    "print(f'The number of files saved to the output folder is {len(os.listdir(output_folder))}.')\n"
   ]
  },
  {
   "cell_type": "markdown",
   "metadata": {},
   "source": [
    "### Q3) What is the value of the min_samples_split parameter?\n",
    "\n",
    "Please use the command `mlflow ui --backend-store-uri sqlite:///mlflow.db` and see the notebook `train_mlflow.ipynb`.\n",
    "Running the notebook and seeing experiments in mlflow - we see that the min_samples_split in this case is 2."
   ]
  },
  {
   "cell_type": "markdown",
   "metadata": {},
   "source": [
    "### Q4) In addition to `backend-store-uri`, what else do you need to pass to properly configure the server?\n",
    "\n",
    "You also should pass `--artifacts-destination <some cloud storage e.g. s3://my-bucket>`. For more info, see the following:\n",
    "https://mlflow.org/docs/latest/tracking/server.html#tracking-server-artifact-store\n",
    "https://mlflow.org/docs/latest/tracking/artifacts-stores.html"
   ]
  },
  {
   "cell_type": "code",
   "execution_count": null,
   "metadata": {},
   "outputs": [],
   "source": [
    "# Q3) "
   ]
  }
 ],
 "metadata": {
  "kernelspec": {
   "display_name": "Python 3 (ipykernel)",
   "language": "python",
   "name": "python3"
  },
  "language_info": {
   "codemirror_mode": {
    "name": "ipython",
    "version": 3
   },
   "file_extension": ".py",
   "mimetype": "text/x-python",
   "name": "python",
   "nbconvert_exporter": "python",
   "pygments_lexer": "ipython3",
   "version": "3.12.3"
  }
 },
 "nbformat": 4,
 "nbformat_minor": 4
}
